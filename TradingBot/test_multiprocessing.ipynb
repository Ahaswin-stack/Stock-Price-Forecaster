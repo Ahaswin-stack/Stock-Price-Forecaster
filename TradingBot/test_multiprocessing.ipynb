{
 "cells": [
  {
   "cell_type": "code",
   "execution_count": 1,
   "metadata": {
    "collapsed": false
   },
   "outputs": [
    {
     "name": "stdout",
     "output_type": "stream",
     "text": [
      "Single core: 0.383502006531 seconds.\n",
      "Multi core: 236.709470034 seconds.\n"
     ]
    }
   ],
   "source": [
    "from joblib import Parallel, delayed\n",
    "import multiprocessing\n",
    "import time\n",
    "# what are your inputs, and what operation do you want to\n",
    "# perform on each input. For example...\n",
    "\n",
    "\n",
    "def processInput(i):\n",
    "    return i * i\n",
    "\n",
    "inputs = range(1000000)\n",
    "\n",
    "start_time = time.time()\n",
    "result_list = []\n",
    "for i in inputs:\n",
    "    result_list.append(processInput(i))\n",
    "print(\"Single core: {} seconds.\".format(time.time() - start_time))\n",
    "\n",
    "start_time = time.time()\n",
    "num_cores = 1\n",
    "results = Parallel(n_jobs=num_cores)(delayed(processInput)(i) for i in inputs)\n",
    "print(\"Multi core: {} seconds.\".format(time.time() - start_time))\n"
   ]
  },
  {
   "cell_type": "code",
   "execution_count": null,
   "metadata": {
    "collapsed": false
   },
   "outputs": [],
   "source": [
    "import numpy as np\n",
    "from joblib import Parallel, delayed\n",
    "\n",
    "def parallel_dot(A,B,n_jobs=2):\n",
    "    \"\"\"\n",
    "     Computes A x B using more CPUs.\n",
    "     This works only when the number \n",
    "     of rows of A and the n_jobs are even.\n",
    "    \"\"\"\n",
    "    parallelizer = Parallel(n_jobs=n_jobs)\n",
    "    # this iterator returns the functions to execute for each task\n",
    "    tasks_iterator = ( delayed(np.dot)(A_block,B) \n",
    "                      for A_block in np.split(A,n_jobs) )\n",
    "    result = parallelizer( tasks_iterator )\n",
    "    # merging the output of the jobs\n",
    "    return np.vstack(result)\n",
    "\n",
    "A = np.random.randint(0,high=10,size=(10000,10000))\n",
    "B = np.random.randint(0,high=10,size=(10000,10000))\n",
    "%time _ = np.dot(A,B)\n",
    "# CPU times: user 13.2 s, sys: 36 ms, total: 13.2 s\n",
    "# Wall time: 13.4 s\n",
    "%time _ = parallel_dot(A,B,n_jobs=10)\n",
    "# CPU times: user 92 ms, sys: 76 ms, total: 168 ms\n",
    "# Wall time: 8.49 s"
   ]
  },
  {
   "cell_type": "code",
   "execution_count": 86,
   "metadata": {
    "collapsed": false
   },
   "outputs": [
    {
     "name": "stdout",
     "output_type": "stream",
     "text": [
      "11.9899020195 seconds.\n"
     ]
    }
   ],
   "source": [
    "from __future__ import division\n",
    "\n",
    "%matplotlib inline\n",
    "import matplotlib.pyplot as plt\n",
    "import seaborn as sns\n",
    "\n",
    "from IPython.display import display\n",
    "from sklearn.metrics import accuracy_score\n",
    "import numpy as np\n",
    "import pandas as pd\n",
    "import time\n",
    "\n",
    "start_time = time.time()\n",
    "iters = 100000\n",
    "num_days = 7 * 180\n",
    "accs = []\n",
    "\n",
    "target_series = np.random.randint(2, size=num_days)\n",
    "\n",
    "for i in range(iters):\n",
    "    accs.append(accuracy_score(target_series, np.random.randint(2, size=num_days)))\n",
    "\n",
    "print(\"{} seconds.\".format(time.time() - start_time))"
   ]
  },
  {
   "cell_type": "code",
   "execution_count": 87,
   "metadata": {
    "collapsed": false
   },
   "outputs": [
    {
     "data": {
      "text/plain": [
       "<matplotlib.axes._subplots.AxesSubplot at 0x7f39c815a690>"
      ]
     },
     "execution_count": 87,
     "metadata": {},
     "output_type": "execute_result"
    },
    {
     "data": {
      "image/png": "[encoded data removed]",
      "text/plain": [
       "<matplotlib.figure.Figure at 0x7f39cc156910>"
      ]
     },
     "metadata": {},
     "output_type": "display_data"
    }
   ],
   "source": [
    "pd.Series(accs).hist(bins=20)"
   ]
  },
  {
   "cell_type": "code",
   "execution_count": 88,
   "metadata": {
    "collapsed": false
   },
   "outputs": [
    {
     "data": {
      "text/plain": [
       "count    100000.000000\n",
       "mean          0.499986\n",
       "std           0.014130\n",
       "min           0.440476\n",
       "25%           0.490476\n",
       "50%           0.500000\n",
       "75%           0.509524\n",
       "max           0.559524\n",
       "dtype: float64"
      ]
     },
     "execution_count": 88,
     "metadata": {},
     "output_type": "execute_result"
    }
   ],
   "source": [
    "pd.Series(accs).describe()"
   ]
  },
  {
   "cell_type": "code",
   "execution_count": 89,
   "metadata": {
    "collapsed": false
   },
   "outputs": [
    {
     "name": "stdout",
     "output_type": "stream",
     "text": [
      "0.532908062602\n"
     ]
    }
   ],
   "source": [
    "print(np.mean(accs) + 2.33 * np.std(accs))"
   ]
  },
  {
   "cell_type": "code",
   "execution_count": 90,
   "metadata": {
    "collapsed": false
   },
   "outputs": [
    {
     "name": "stdout",
     "output_type": "stream",
     "text": [
      "0.7755\n"
     ]
    }
   ],
   "source": [
    "def inverse_percentile(arr, num):\n",
    "    arr = sorted(arr)\n",
    "    i_arr = [i for i, x in enumerate(arr) if x > num]\n",
    "   \n",
    "    return i_arr[0] / len(arr) if len(i_arr) > 0 else 1\n",
    "\n",
    "print(inverse_percentile(accs, 0.51031746031746039))\n"
   ]
  },
  {
   "cell_type": "code",
   "execution_count": 69,
   "metadata": {
    "collapsed": false
   },
   "outputs": [
    {
     "name": "stdout",
     "output_type": "stream",
     "text": [
      "0.283256053925\n"
     ]
    }
   ],
   "source": [
    "from math import sqrt\n",
    "start_time = time.time()\n",
    "[sqrt(i ** 2) for i in range(1000000)]\n",
    "print(time.time()  - start_time)"
   ]
  },
  {
   "cell_type": "code",
   "execution_count": 53,
   "metadata": {
    "collapsed": false
   },
   "outputs": [
    {
     "name": "stdout",
     "output_type": "stream",
     "text": [
      "43.3173577785\n"
     ]
    }
   ],
   "source": [
    "from joblib import Parallel, delayed\n",
    "start_time = time.time()\n",
    "Parallel(n_jobs=2)(delayed(sqrt)(i ** 2) for i in range(1000000))\n",
    "print(time.time()  - start_time)"
   ]
  },
  {
   "cell_type": "code",
   "execution_count": 54,
   "metadata": {
    "collapsed": false
   },
   "outputs": [
    {
     "ename": "ValueError",
     "evalue": "invalid literal for int() with base 10: '-f'",
     "output_type": "error",
     "traceback": [
      "\u001b[0;31m---------------------------------------------------------------------------\u001b[0m",
      "\u001b[0;31mValueError\u001b[0m                                Traceback (most recent call last)",
      "\u001b[0;32m<ipython-input-54-5041f47f7bf6>\u001b[0m in \u001b[0;36m<module>\u001b[0;34m()\u001b[0m\n\u001b[1;32m     23\u001b[0m     \u001b[0mnow\u001b[0m \u001b[0;34m=\u001b[0m \u001b[0mtime\u001b[0m\u001b[0;34m.\u001b[0m\u001b[0mtime\u001b[0m\u001b[0;34m(\u001b[0m\u001b[0;34m)\u001b[0m\u001b[0;34m\u001b[0m\u001b[0m\n\u001b[1;32m     24\u001b[0m     \u001b[0;32mif\u001b[0m \u001b[0mlen\u001b[0m\u001b[0;34m(\u001b[0m\u001b[0msys\u001b[0m\u001b[0;34m.\u001b[0m\u001b[0margv\u001b[0m\u001b[0;34m)\u001b[0m \u001b[0;34m>=\u001b[0m \u001b[0;36m2\u001b[0m\u001b[0;34m:\u001b[0m\u001b[0;34m\u001b[0m\u001b[0m\n\u001b[0;32m---> 25\u001b[0;31m         \u001b[0mres\u001b[0m \u001b[0;34m=\u001b[0m \u001b[0mParallel\u001b[0m\u001b[0;34m(\u001b[0m\u001b[0mn_jobs\u001b[0m\u001b[0;34m=\u001b[0m\u001b[0mint\u001b[0m\u001b[0;34m(\u001b[0m\u001b[0msys\u001b[0m\u001b[0;34m.\u001b[0m\u001b[0margv\u001b[0m\u001b[0;34m[\u001b[0m\u001b[0;36m1\u001b[0m\u001b[0;34m]\u001b[0m\u001b[0;34m)\u001b[0m\u001b[0;34m)\u001b[0m \u001b[0;34m(\u001b[0m\u001b[0mdelayed\u001b[0m\u001b[0;34m(\u001b[0m\u001b[0mcheck_paths\u001b[0m\u001b[0;34m)\u001b[0m \u001b[0;34m(\u001b[0m\u001b[0mPath\u001b[0m\u001b[0;34m(\u001b[0m\u001b[0mpoints\u001b[0m\u001b[0;34m)\u001b[0m\u001b[0;34m)\u001b[0m \u001b[0;32mfor\u001b[0m \u001b[0mpoints\u001b[0m \u001b[0;32min\u001b[0m \u001b[0mb\u001b[0m\u001b[0;34m)\u001b[0m\u001b[0;34m\u001b[0m\u001b[0m\n\u001b[0m\u001b[1;32m     26\u001b[0m     \u001b[0;32melse\u001b[0m\u001b[0;34m:\u001b[0m\u001b[0;34m\u001b[0m\u001b[0m\n\u001b[1;32m     27\u001b[0m         \u001b[0mres\u001b[0m \u001b[0;34m=\u001b[0m \u001b[0;34m[\u001b[0m\u001b[0mcheck_paths\u001b[0m\u001b[0;34m(\u001b[0m\u001b[0mPath\u001b[0m\u001b[0;34m(\u001b[0m\u001b[0mpoints\u001b[0m\u001b[0;34m)\u001b[0m\u001b[0;34m)\u001b[0m \u001b[0;32mfor\u001b[0m \u001b[0mpoints\u001b[0m \u001b[0;32min\u001b[0m \u001b[0mb\u001b[0m\u001b[0;34m]\u001b[0m\u001b[0;34m\u001b[0m\u001b[0m\n",
      "\u001b[0;31mValueError\u001b[0m: invalid literal for int() with base 10: '-f'"
     ]
    }
   ],
   "source": [
    "import numpy as np\n",
    "from matplotlib.path import Path\n",
    "from joblib import Parallel, delayed\n",
    "import time\n",
    "import sys\n",
    "\n",
    "## Check if one line segment contains another. \n",
    "\n",
    "def check_paths(path):\n",
    "    for other_path in a:\n",
    "        res='no cross'\n",
    "        chck = Path(other_path)\n",
    "        if chck.contains_path(path)==1:\n",
    "            res= 'cross'\n",
    "            break\n",
    "    return res\n",
    "\n",
    "if __name__ == '__main__':\n",
    "    ## Create pairs of points for line segments\n",
    "    a = zip(np.random.rand(5000,2),np.random.rand(5000,2))\n",
    "    b = zip(np.random.rand(300,2),np.random.rand(300,2))\n",
    "\n",
    "    now = time.time()\n",
    "    if len(sys.argv) >= 2:\n",
    "        res = Parallel(n_jobs=int(sys.argv[1])) (delayed(check_paths) (Path(points)) for points in b)\n",
    "    else:\n",
    "        res = [check_paths(Path(points)) for points in b]\n",
    "    print \"Finished in\", time.time()-now , \"sec\""
   ]
  },
  {
   "cell_type": "code",
   "execution_count": 55,
   "metadata": {
    "collapsed": false
   },
   "outputs": [
    {
     "data": {
      "text/plain": [
       "['/home/calvinjku/anaconda2/envs/python2/lib/python2.7/site-packages/ipykernel/__main__.py',\n",
       " '-f',\n",
       " '/run/user/1000/jupyter/kernel-39f5ad22-b91b-4546-8a10-6f466a0c3c32.json']"
      ]
     },
     "execution_count": 55,
     "metadata": {},
     "output_type": "execute_result"
    }
   ],
   "source": [
    "sys.argv"
   ]
  },
  {
   "cell_type": "code",
   "execution_count": 122,
   "metadata": {
    "collapsed": false
   },
   "outputs": [],
   "source": [
    "import random\n"
   ]
  },
  {
   "cell_type": "code",
   "execution_count": 127,
   "metadata": {
    "collapsed": false
   },
   "outputs": [
    {
     "name": "stdout",
     "output_type": "stream",
     "text": [
      "2\n"
     ]
    }
   ],
   "source": [
    "random_choice = random.choice([1, 2])\n",
    "print(random_choice)"
   ]
  },
  {
   "cell_type": "code",
   "execution_count": null,
   "metadata": {
    "collapsed": true
   },
   "outputs": [],
   "source": []
  }
 ],
 "metadata": {
  "anaconda-cloud": {},
  "kernelspec": {
   "display_name": "Python [conda env:python2]",
   "language": "python",
   "name": "conda-env-python2-py"
  },
  "language_info": {
   "codemirror_mode": {
    "name": "ipython",
    "version": 2
   },
   "file_extension": ".py",
   "mimetype": "text/x-python",
   "name": "python",
   "nbconvert_exporter": "python",
   "pygments_lexer": "ipython2",
   "version": "2.7.12"
  }
 },
 "nbformat": 4,
 "nbformat_minor": 1
}
