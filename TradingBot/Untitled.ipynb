{
 "cells": [
  {
   "cell_type": "code",
   "execution_count": 12,
   "metadata": {
    "collapsed": false
   },
   "outputs": [
    {
     "data": {
      "text/html": [
       "<div>\n",
       "<table border=\"1\" class=\"dataframe\">\n",
       "  <thead>\n",
       "    <tr style=\"text-align: right;\">\n",
       "      <th></th>\n",
       "      <th>a</th>\n",
       "      <th>b</th>\n",
       "      <th>c</th>\n",
       "    </tr>\n",
       "  </thead>\n",
       "  <tbody>\n",
       "    <tr>\n",
       "      <th>0</th>\n",
       "      <td>0.281891</td>\n",
       "      <td>foo</td>\n",
       "      <td>-0.235346</td>\n",
       "    </tr>\n",
       "    <tr>\n",
       "      <th>1</th>\n",
       "      <td>0.000309</td>\n",
       "      <td>bar</td>\n",
       "      <td>1.373246</td>\n",
       "    </tr>\n",
       "    <tr>\n",
       "      <th>2</th>\n",
       "      <td>-0.871708</td>\n",
       "      <td>foo</td>\n",
       "      <td>0.077384</td>\n",
       "    </tr>\n",
       "    <tr>\n",
       "      <th>3</th>\n",
       "      <td>-0.471196</td>\n",
       "      <td>bar</td>\n",
       "      <td>-2.610391</td>\n",
       "    </tr>\n",
       "    <tr>\n",
       "      <th>4</th>\n",
       "      <td>1.177741</td>\n",
       "      <td>foo</td>\n",
       "      <td>1.111507</td>\n",
       "    </tr>\n",
       "    <tr>\n",
       "      <th>5</th>\n",
       "      <td>0.537539</td>\n",
       "      <td>bar</td>\n",
       "      <td>-0.917418</td>\n",
       "    </tr>\n",
       "  </tbody>\n",
       "</table>\n",
       "</div>"
      ],
      "text/plain": [
       "          a    b         c\n",
       "0  0.281891  foo -0.235346\n",
       "1  0.000309  bar  1.373246\n",
       "2 -0.871708  foo  0.077384\n",
       "3 -0.471196  bar -2.610391\n",
       "4  1.177741  foo  1.111507\n",
       "5  0.537539  bar -0.917418"
      ]
     },
     "metadata": {},
     "output_type": "display_data"
    },
    {
     "data": {
      "text/html": [
       "<div>\n",
       "<table border=\"1\" class=\"dataframe\">\n",
       "  <thead>\n",
       "    <tr style=\"text-align: right;\">\n",
       "      <th></th>\n",
       "      <th>a</th>\n",
       "      <th>b</th>\n",
       "      <th>c</th>\n",
       "      <th>Value</th>\n",
       "    </tr>\n",
       "  </thead>\n",
       "  <tbody>\n",
       "    <tr>\n",
       "      <th>0</th>\n",
       "      <td>0.281891</td>\n",
       "      <td>foo</td>\n",
       "      <td>-0.235346</td>\n",
       "      <td>-0.188801</td>\n",
       "    </tr>\n",
       "    <tr>\n",
       "      <th>1</th>\n",
       "      <td>0.000309</td>\n",
       "      <td>bar</td>\n",
       "      <td>1.373246</td>\n",
       "      <td>0.000309</td>\n",
       "    </tr>\n",
       "    <tr>\n",
       "      <th>2</th>\n",
       "      <td>-0.871708</td>\n",
       "      <td>foo</td>\n",
       "      <td>0.077384</td>\n",
       "      <td>0.056905</td>\n",
       "    </tr>\n",
       "    <tr>\n",
       "      <th>3</th>\n",
       "      <td>-0.471196</td>\n",
       "      <td>bar</td>\n",
       "      <td>-2.610391</td>\n",
       "      <td>-0.471196</td>\n",
       "    </tr>\n",
       "    <tr>\n",
       "      <th>4</th>\n",
       "      <td>1.177741</td>\n",
       "      <td>foo</td>\n",
       "      <td>1.111507</td>\n",
       "      <td>0.066234</td>\n",
       "    </tr>\n",
       "    <tr>\n",
       "      <th>5</th>\n",
       "      <td>0.537539</td>\n",
       "      <td>bar</td>\n",
       "      <td>-0.917418</td>\n",
       "      <td>-0.379879</td>\n",
       "    </tr>\n",
       "  </tbody>\n",
       "</table>\n",
       "</div>"
      ],
      "text/plain": [
       "          a    b         c     Value\n",
       "0  0.281891  foo -0.235346 -0.188801\n",
       "1  0.000309  bar  1.373246  0.000309\n",
       "2 -0.871708  foo  0.077384  0.056905\n",
       "3 -0.471196  bar -2.610391 -0.471196\n",
       "4  1.177741  foo  1.111507  0.066234\n",
       "5  0.537539  bar -0.917418 -0.379879"
      ]
     },
     "metadata": {},
     "output_type": "display_data"
    }
   ],
   "source": [
    "from __future__ import division\n",
    "\n",
    "%matplotlib inline\n",
    "import matplotlib.pyplot as plt\n",
    "import seaborn as sns\n",
    "\n",
    "import pandas as pd\n",
    "import numpy as np\n",
    "\n",
    "from IPython.display import display\n",
    "\n",
    "df = pd.DataFrame ({'a' : np.random.randn(6),\n",
    "             'b' : ['foo', 'bar'] * 3,\n",
    "             'c' : np.random.randn(6)})\n",
    "\n",
    "display(df)\n",
    "\n",
    "def my_test(a, b):\n",
    "    return a % b\n",
    "\n",
    "df['Value'] = df.apply(lambda row: my_test(row['a'], row['c']), axis=1)\n",
    "\n",
    "display(df)"
   ]
  },
  {
   "cell_type": "code",
   "execution_count": 13,
   "metadata": {
    "collapsed": false
   },
   "outputs": [],
   "source": [
    "x = np.arange(1000)\n",
    "delta = np.random.uniform(-10,10, size=(1000,))\n",
    "y = 1000 * np.exp((np.log(8) / 1000) * x) + delta\n",
    "plt.plot(x, y)\n",
    "plt.show()"
   ]
  },
  {
   "cell_type": "code",
   "execution_count": 14,
   "metadata": {
    "collapsed": false
   },
   "outputs": [
    {
     "data": {
      "image/png": "[encoded data removed]",
      "text/plain": [
       "<matplotlib.figure.Figure at 0x7f9e385e3dd0>"
      ]
     },
     "metadata": {},
     "output_type": "display_data"
    }
   ],
   "source": [
    "plt.plot(x, y)\n",
    "plt.show()"
   ]
  },
  {
   "cell_type": "code",
   "execution_count": 15,
   "metadata": {
    "collapsed": false
   },
   "outputs": [
    {
     "data": {
      "text/plain": [
       "'0.29.0+0.gead0dd3.dirty'"
      ]
     },
     "execution_count": 15,
     "metadata": {},
     "output_type": "execute_result"
    }
   ],
   "source": [
    "import numba\n",
    "numba.__version__"
   ]
  },
  {
   "cell_type": "code",
   "execution_count": null,
   "metadata": {
    "collapsed": true
   },
   "outputs": [],
   "source": []
  }
 ],
 "metadata": {
  "kernelspec": {
   "display_name": "Python [default]",
   "language": "python",
   "name": "python2"
  },
  "language_info": {
   "codemirror_mode": {
    "name": "ipython",
    "version": 2
   },
   "file_extension": ".py",
   "mimetype": "text/x-python",
   "name": "python",
   "nbconvert_exporter": "python",
   "pygments_lexer": "ipython2",
   "version": "2.7.12"
  }
 },
 "nbformat": 4,
 "nbformat_minor": 1
}
