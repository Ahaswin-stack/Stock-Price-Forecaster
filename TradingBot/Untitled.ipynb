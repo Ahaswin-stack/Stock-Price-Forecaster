{
 "cells": [
  {
   "cell_type": "code",
   "execution_count": 3,
   "metadata": {
    "collapsed": false
   },
   "outputs": [
    {
     "data": {
      "text/html": [
       "<div>\n",
       "<table border=\"1\" class=\"dataframe\">\n",
       "  <thead>\n",
       "    <tr style=\"text-align: right;\">\n",
       "      <th></th>\n",
       "      <th>a</th>\n",
       "      <th>b</th>\n",
       "      <th>c</th>\n",
       "    </tr>\n",
       "  </thead>\n",
       "  <tbody>\n",
       "    <tr>\n",
       "      <th>0</th>\n",
       "      <td>-0.643277</td>\n",
       "      <td>foo</td>\n",
       "      <td>0.638628</td>\n",
       "    </tr>\n",
       "    <tr>\n",
       "      <th>1</th>\n",
       "      <td>0.469608</td>\n",
       "      <td>bar</td>\n",
       "      <td>0.177681</td>\n",
       "    </tr>\n",
       "    <tr>\n",
       "      <th>2</th>\n",
       "      <td>2.668675</td>\n",
       "      <td>foo</td>\n",
       "      <td>-0.424800</td>\n",
       "    </tr>\n",
       "    <tr>\n",
       "      <th>3</th>\n",
       "      <td>-0.780699</td>\n",
       "      <td>bar</td>\n",
       "      <td>-1.191385</td>\n",
       "    </tr>\n",
       "    <tr>\n",
       "      <th>4</th>\n",
       "      <td>-0.901018</td>\n",
       "      <td>foo</td>\n",
       "      <td>0.538098</td>\n",
       "    </tr>\n",
       "    <tr>\n",
       "      <th>5</th>\n",
       "      <td>-0.952123</td>\n",
       "      <td>bar</td>\n",
       "      <td>-0.860048</td>\n",
       "    </tr>\n",
       "  </tbody>\n",
       "</table>\n",
       "</div>"
      ],
      "text/plain": [
       "          a    b         c\n",
       "0 -0.643277  foo  0.638628\n",
       "1  0.469608  bar  0.177681\n",
       "2  2.668675  foo -0.424800\n",
       "3 -0.780699  bar -1.191385\n",
       "4 -0.901018  foo  0.538098\n",
       "5 -0.952123  bar -0.860048"
      ]
     },
     "metadata": {},
     "output_type": "display_data"
    },
    {
     "data": {
      "text/html": [
       "<div>\n",
       "<table border=\"1\" class=\"dataframe\">\n",
       "  <thead>\n",
       "    <tr style=\"text-align: right;\">\n",
       "      <th></th>\n",
       "      <th>a</th>\n",
       "      <th>b</th>\n",
       "      <th>c</th>\n",
       "      <th>Value</th>\n",
       "    </tr>\n",
       "  </thead>\n",
       "  <tbody>\n",
       "    <tr>\n",
       "      <th>0</th>\n",
       "      <td>-0.643277</td>\n",
       "      <td>foo</td>\n",
       "      <td>0.638628</td>\n",
       "      <td>0.633979</td>\n",
       "    </tr>\n",
       "    <tr>\n",
       "      <th>1</th>\n",
       "      <td>0.469608</td>\n",
       "      <td>bar</td>\n",
       "      <td>0.177681</td>\n",
       "      <td>0.114245</td>\n",
       "    </tr>\n",
       "    <tr>\n",
       "      <th>2</th>\n",
       "      <td>2.668675</td>\n",
       "      <td>foo</td>\n",
       "      <td>-0.424800</td>\n",
       "      <td>-0.304928</td>\n",
       "    </tr>\n",
       "    <tr>\n",
       "      <th>3</th>\n",
       "      <td>-0.780699</td>\n",
       "      <td>bar</td>\n",
       "      <td>-1.191385</td>\n",
       "      <td>-0.780699</td>\n",
       "    </tr>\n",
       "    <tr>\n",
       "      <th>4</th>\n",
       "      <td>-0.901018</td>\n",
       "      <td>foo</td>\n",
       "      <td>0.538098</td>\n",
       "      <td>0.175178</td>\n",
       "    </tr>\n",
       "    <tr>\n",
       "      <th>5</th>\n",
       "      <td>-0.952123</td>\n",
       "      <td>bar</td>\n",
       "      <td>-0.860048</td>\n",
       "      <td>-0.092076</td>\n",
       "    </tr>\n",
       "  </tbody>\n",
       "</table>\n",
       "</div>"
      ],
      "text/plain": [
       "          a    b         c     Value\n",
       "0 -0.643277  foo  0.638628  0.633979\n",
       "1  0.469608  bar  0.177681  0.114245\n",
       "2  2.668675  foo -0.424800 -0.304928\n",
       "3 -0.780699  bar -1.191385 -0.780699\n",
       "4 -0.901018  foo  0.538098  0.175178\n",
       "5 -0.952123  bar -0.860048 -0.092076"
      ]
     },
     "metadata": {},
     "output_type": "display_data"
    }
   ],
   "source": [
    "import pandas as pd\n",
    "import numpy as np\n",
    "\n",
    "from IPython.display import display\n",
    "\n",
    "df = pd.DataFrame ({'a' : np.random.randn(6),\n",
    "             'b' : ['foo', 'bar'] * 3,\n",
    "             'c' : np.random.randn(6)})\n",
    "\n",
    "display(df)\n",
    "\n",
    "def my_test(a, b):\n",
    "    return a % b\n",
    "\n",
    "df['Value'] = df.apply(lambda row: my_test(row['a'], row['c']), axis=1)\n",
    "\n",
    "display(df)"
   ]
  },
  {
   "cell_type": "code",
   "execution_count": null,
   "metadata": {
    "collapsed": true
   },
   "outputs": [],
   "source": []
  }
 ],
 "metadata": {
  "kernelspec": {
   "display_name": "Python [default]",
   "language": "python",
   "name": "python2"
  },
  "language_info": {
   "codemirror_mode": {
    "name": "ipython",
    "version": 2
   },
   "file_extension": ".py",
   "mimetype": "text/x-python",
   "name": "python",
   "nbconvert_exporter": "python",
   "pygments_lexer": "ipython2",
   "version": "2.7.12"
  }
 },
 "nbformat": 4,
 "nbformat_minor": 1
}
