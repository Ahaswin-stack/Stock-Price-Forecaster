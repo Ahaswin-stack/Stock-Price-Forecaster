{
 "cells": [
  {
   "cell_type": "code",
   "execution_count": 2,
   "metadata": {
    "collapsed": false
   },
   "outputs": [
    {
     "data": {
      "text/html": [
       "<div>\n",
       "<table border=\"1\" class=\"dataframe\">\n",
       "  <thead>\n",
       "    <tr style=\"text-align: right;\">\n",
       "      <th></th>\n",
       "      <th>Open</th>\n",
       "      <th>High</th>\n",
       "      <th>Low</th>\n",
       "      <th>Close</th>\n",
       "      <th>Volume</th>\n",
       "      <th>Adj Close</th>\n",
       "    </tr>\n",
       "  </thead>\n",
       "  <tbody>\n",
       "    <tr>\n",
       "      <th>1983-12-30</th>\n",
       "      <td>2.602623</td>\n",
       "      <td>2.632198</td>\n",
       "      <td>2.573048</td>\n",
       "      <td>44.000008</td>\n",
       "      <td>3.575624e+06</td>\n",
       "      <td>2.602623</td>\n",
       "    </tr>\n",
       "    <tr>\n",
       "      <th>1984-01-03</th>\n",
       "      <td>2.598926</td>\n",
       "      <td>2.617409</td>\n",
       "      <td>2.580440</td>\n",
       "      <td>44.000008</td>\n",
       "      <td>6.517272e+06</td>\n",
       "      <td>2.602623</td>\n",
       "    </tr>\n",
       "    <tr>\n",
       "      <th>1984-01-04</th>\n",
       "      <td>2.652532</td>\n",
       "      <td>2.713529</td>\n",
       "      <td>2.617410</td>\n",
       "      <td>45.874979</td>\n",
       "      <td>4.945011e+06</td>\n",
       "      <td>2.713529</td>\n",
       "    </tr>\n",
       "    <tr>\n",
       "      <th>1984-01-05</th>\n",
       "      <td>2.768984</td>\n",
       "      <td>2.802256</td>\n",
       "      <td>2.735712</td>\n",
       "      <td>47.375008</td>\n",
       "      <td>5.817363e+06</td>\n",
       "      <td>2.802256</td>\n",
       "    </tr>\n",
       "    <tr>\n",
       "      <th>1984-01-06</th>\n",
       "      <td>2.772681</td>\n",
       "      <td>2.802256</td>\n",
       "      <td>2.743106</td>\n",
       "      <td>46.875014</td>\n",
       "      <td>3.286531e+06</td>\n",
       "      <td>2.772681</td>\n",
       "    </tr>\n",
       "  </tbody>\n",
       "</table>\n",
       "</div>"
      ],
      "text/plain": [
       "                Open      High       Low      Close        Volume  Adj Close\n",
       "1983-12-30  2.602623  2.632198  2.573048  44.000008  3.575624e+06   2.602623\n",
       "1984-01-03  2.598926  2.617409  2.580440  44.000008  6.517272e+06   2.602623\n",
       "1984-01-04  2.652532  2.713529  2.617410  45.874979  4.945011e+06   2.713529\n",
       "1984-01-05  2.768984  2.802256  2.735712  47.375008  5.817363e+06   2.802256\n",
       "1984-01-06  2.772681  2.802256  2.743106  46.875014  3.286531e+06   2.772681"
      ]
     },
     "metadata": {},
     "output_type": "display_data"
    }
   ],
   "source": [
    "%matplotlib inline\n",
    "import matplotlib.pyplot as plt\n",
    "import seaborn as sns\n",
    "\n",
    "from IPython.display import display\n",
    "import pandas as pd\n",
    "import numpy as np\n",
    "from datetime import datetime, timedelta\n",
    "import time\n",
    "import random\n",
    "pd.set_option('display.max_columns', 50)\n",
    "\n",
    "adj_jpm = pd.DataFrame.from_csv('adjJPM.csv')\n",
    "display(adj_jpm.head())"
   ]
  },
  {
   "cell_type": "code",
   "execution_count": null,
   "metadata": {
    "collapsed": true
   },
   "outputs": [],
   "source": []
  }
 ],
 "metadata": {
  "anaconda-cloud": {},
  "kernelspec": {
   "display_name": "Python [conda env:kaggle]",
   "language": "python",
   "name": "conda-env-kaggle-py"
  },
  "language_info": {
   "codemirror_mode": {
    "name": "ipython",
    "version": 3
   },
   "file_extension": ".py",
   "mimetype": "text/x-python",
   "name": "python",
   "nbconvert_exporter": "python",
   "pygments_lexer": "ipython3",
   "version": "3.5.2"
  }
 },
 "nbformat": 4,
 "nbformat_minor": 2
}
